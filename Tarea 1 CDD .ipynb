{
 "cells": [
  {
   "cell_type": "code",
   "execution_count": 2,
   "id": "df5032bd-de19-4ddd-8d85-4bc32011c801",
   "metadata": {},
   "outputs": [
    {
     "name": "stdin",
     "output_type": "stream",
     "text": [
      "Pon un numero 25\n"
     ]
    }
   ],
   "source": [
    "numero= input(\"Pon un numero\")\n",
    "\n"
   ]
  },
  {
   "cell_type": "code",
   "execution_count": 6,
   "id": "e55dc051-95d5-4b30-aa19-24f3a4083137",
   "metadata": {},
   "outputs": [
    {
     "name": "stdout",
     "output_type": "stream",
     "text": [
      "25\n"
     ]
    }
   ],
   "source": [
    "print(numero)\n"
   ]
  },
  {
   "cell_type": "code",
   "execution_count": 7,
   "id": "473a70ab-43e7-4c23-a73a-f4321af699b8",
   "metadata": {},
   "outputs": [],
   "source": [
    "numero= int(numero)\n"
   ]
  },
  {
   "cell_type": "code",
   "execution_count": 8,
   "id": "ce9766f4-5053-4d22-a3bb-479b418a40cf",
   "metadata": {},
   "outputs": [
    {
     "data": {
      "text/plain": [
       "int"
      ]
     },
     "execution_count": 8,
     "metadata": {},
     "output_type": "execute_result"
    }
   ],
   "source": [
    "type(numero)"
   ]
  },
  {
   "cell_type": "code",
   "execution_count": 9,
   "id": "6aa63fca-98cd-4c27-ad5e-395cb2e4a72c",
   "metadata": {},
   "outputs": [
    {
     "name": "stdout",
     "output_type": "stream",
     "text": [
      "el numeor es positivo\n"
     ]
    }
   ],
   "source": [
    "if numero < 0:\n",
    "    print(\"el numero es negativo\")\n",
    "else:\n",
    "    print(\"el numeor es positivo\")\n",
    "    "
   ]
  },
  {
   "cell_type": "code",
   "execution_count": 15,
   "id": "3aacc66b-5df0-45a9-825e-ec3300aa3189",
   "metadata": {},
   "outputs": [
    {
     "name": "stdin",
     "output_type": "stream",
     "text": [
      "Pon tu edad:  25\n",
      "Pon la edad de tu padre:  56\n"
     ]
    }
   ],
   "source": [
    "edad= input(\"Pon tu edad: \") \n",
    "edadP= input (\"Pon la edad de tu padre: \")\n"
   ]
  },
  {
   "cell_type": "code",
   "execution_count": 11,
   "id": "aedd984f-5a7a-4e06-b0b0-b21f7ecff3fd",
   "metadata": {},
   "outputs": [],
   "source": [
    "edad= int(edad)\n",
    "edadP= int(edadP)"
   ]
  },
  {
   "cell_type": "code",
   "execution_count": 13,
   "id": "33e09748-3dde-47d8-aa4c-4ae21f0d08d7",
   "metadata": {},
   "outputs": [
    {
     "data": {
      "text/plain": [
       "int"
      ]
     },
     "execution_count": 13,
     "metadata": {},
     "output_type": "execute_result"
    }
   ],
   "source": [
    "type(edad)\n",
    "type(edadP)"
   ]
  },
  {
   "cell_type": "code",
   "execution_count": 16,
   "id": "de86c9d4-c059-46ad-8c7e-b2a91b183e12",
   "metadata": {},
   "outputs": [
    {
     "name": "stdout",
     "output_type": "stream",
     "text": [
      " tu padre es mayor\n"
     ]
    }
   ],
   "source": [
    "if edad < edadP:\n",
    "    print(\" tu padre es mayor\")\n",
    "else:\n",
    "    print(\"eres mayor a tu padre\")\n",
    "    "
   ]
  },
  {
   "cell_type": "code",
   "execution_count": null,
   "id": "6419f1e3-d435-4985-a087-adc7a6a93f02",
   "metadata": {},
   "outputs": [],
   "source": []
  },
  {
   "cell_type": "code",
   "execution_count": 53,
   "id": "dbcafa6e-3d74-48db-9226-49e67e7c8094",
   "metadata": {},
   "outputs": [
    {
     "name": "stdin",
     "output_type": "stream",
     "text": [
      "Cual fue la calificacion de tu cursada: 90\n"
     ]
    }
   ],
   "source": [
    "nota= input(\"Cual fue la calificacion de tu cursada:\")"
   ]
  },
  {
   "cell_type": "code",
   "execution_count": 54,
   "id": "52f55847-d563-485b-af85-fe155ceb613f",
   "metadata": {},
   "outputs": [
    {
     "data": {
      "text/plain": [
       "int"
      ]
     },
     "execution_count": 54,
     "metadata": {},
     "output_type": "execute_result"
    }
   ],
   "source": [
    "nota= int(nota)\n",
    "type(nota)"
   ]
  },
  {
   "cell_type": "code",
   "execution_count": 55,
   "id": "8c3e7c47-5eb2-4178-ad79-6bde6c61568b",
   "metadata": {},
   "outputs": [
    {
     "name": "stdout",
     "output_type": "stream",
     "text": [
      "Tienes A\n"
     ]
    }
   ],
   "source": [
    "if nota in range(90,101):\n",
    "    print(\"Tienes A\")\n",
    "if nota in range(80,90):\n",
    "    print(\"Tienes B\")\n",
    "if nota in range(70,80):\n",
    "    print(\"tienes C\")\n",
    "if nota in range(60,70):\n",
    "    print(\"tienes D\")\n",
    "if nota in range(50,60):\n",
    "    print(\"tienes F\")\n",
    "if nota < 50:\n",
    "    print(\"Reprobaste\")"
   ]
  },
  {
   "cell_type": "code",
   "execution_count": null,
   "id": "889a49a8-aee2-44de-bd5e-4b9a38ada797",
   "metadata": {},
   "outputs": [],
   "source": []
  },
  {
   "cell_type": "code",
   "execution_count": null,
   "id": "ad8bdd86-4e5a-494c-b1f1-d01c0ed01ca2",
   "metadata": {},
   "outputs": [],
   "source": []
  },
  {
   "cell_type": "code",
   "execution_count": null,
   "id": "9d03fe49-eb7e-4e65-9a26-4e3b09cf1f65",
   "metadata": {},
   "outputs": [],
   "source": []
  }
 ],
 "metadata": {
  "kernelspec": {
   "display_name": "Python 3 (ipykernel)",
   "language": "python",
   "name": "python3"
  },
  "language_info": {
   "codemirror_mode": {
    "name": "ipython",
    "version": 3
   },
   "file_extension": ".py",
   "mimetype": "text/x-python",
   "name": "python",
   "nbconvert_exporter": "python",
   "pygments_lexer": "ipython3",
   "version": "3.11.5"
  }
 },
 "nbformat": 4,
 "nbformat_minor": 5
}
