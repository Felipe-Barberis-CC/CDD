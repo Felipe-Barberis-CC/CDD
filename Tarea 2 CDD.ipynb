{
 "cells": [
  {
   "cell_type": "code",
   "execution_count": 3,
   "id": "cf9f7b71-3c4a-4280-bfc9-e717bc1c6ca4",
   "metadata": {},
   "outputs": [],
   "source": [
    "materiasCP=[\"introduccion a la ciencia politica\", \"teora politica y socal\", \"teoria politica y social 2\", \"teoria politca comtemporanea\", \"historia latinoamericana\", \"historia argentina\", \"historia comtemporanea\", \"filosofia\", \"teoria sobre el poder\", \"italiano\", \"frances\"]"
   ]
  },
  {
   "cell_type": "code",
   "execution_count": 4,
   "id": "ed28551a-280b-477c-8b40-95a9e0a4523d",
   "metadata": {},
   "outputs": [
    {
     "name": "stdout",
     "output_type": "stream",
     "text": [
      "['introduccion a la ciencia politica', 'teora politica y socal', ' teoria politica y social 2', 'teoria politca comtemporanea', 'historia latinoamericana', 'historia argentina', 'historia comtemporanea', 'filosofia', 'teoria sobre el poder', 'italiano', 'frances']\n"
     ]
    }
   ],
   "source": [
    "print(materiasCP)"
   ]
  },
  {
   "cell_type": "code",
   "execution_count": 5,
   "id": "6458c040-fd2a-41ab-872d-3157f1787acd",
   "metadata": {},
   "outputs": [
    {
     "name": "stdout",
     "output_type": "stream",
     "text": [
      "Materia de Ciencia Politicia  introduccion a la ciencia politica\n",
      "Materia de Ciencia Politicia  teora politica y socal\n",
      "Materia de Ciencia Politicia   teoria politica y social 2\n",
      "Materia de Ciencia Politicia  teoria politca comtemporanea\n",
      "Materia de Ciencia Politicia  historia latinoamericana\n",
      "Materia de Ciencia Politicia  historia argentina\n",
      "Materia de Ciencia Politicia  historia comtemporanea\n",
      "Materia de Ciencia Politicia  filosofia\n",
      "Materia de Ciencia Politicia  teoria sobre el poder\n",
      "Materia de Ciencia Politicia  italiano\n",
      "Materia de Ciencia Politicia  frances\n"
     ]
    }
   ],
   "source": [
    "for materias in materiasCP:\n",
    "    print(\"Materia de Ciencia Politicia \", materias)\n",
    "    "
   ]
  },
  {
   "cell_type": "code",
   "execution_count": 148,
   "id": "a9b84f53-c7a7-4d34-9d4e-4cd2626b3cc5",
   "metadata": {},
   "outputs": [],
   "source": [
    "numeros= [39,2,3,4,5,6,40,21,60,10]"
   ]
  },
  {
   "cell_type": "code",
   "execution_count": 149,
   "id": "19607775-9512-48c6-b85a-ba1c5da2868e",
   "metadata": {
    "scrolled": true
   },
   "outputs": [
    {
     "data": {
      "text/plain": [
       "190"
      ]
     },
     "execution_count": 149,
     "metadata": {},
     "output_type": "execute_result"
    }
   ],
   "source": [
    "sum(numeros)"
   ]
  },
  {
   "cell_type": "code",
   "execution_count": 150,
   "id": "d1852af0-237a-4708-a8ea-07f732deb710",
   "metadata": {},
   "outputs": [
    {
     "data": {
      "text/plain": [
       "60"
      ]
     },
     "execution_count": 150,
     "metadata": {},
     "output_type": "execute_result"
    }
   ],
   "source": [
    "max(numeros)\n",
    "\n"
   ]
  },
  {
   "cell_type": "code",
   "execution_count": 151,
   "id": "36222284-f95a-4501-8f53-f6a3579f7631",
   "metadata": {},
   "outputs": [],
   "source": [
    "prom = sum(numeros)/len(numeros)"
   ]
  },
  {
   "cell_type": "code",
   "execution_count": 154,
   "id": "9fb8e1ff-09e6-4f82-96a1-a8e28030f969",
   "metadata": {},
   "outputs": [
    {
     "data": {
      "text/plain": [
       "19.0"
      ]
     },
     "execution_count": 154,
     "metadata": {},
     "output_type": "execute_result"
    }
   ],
   "source": [
    "prom"
   ]
  },
  {
   "cell_type": "code",
   "execution_count": 157,
   "id": "dd10cb8a-7d1b-471c-9eb6-77a3439c0b73",
   "metadata": {},
   "outputs": [],
   "source": [
    "prom= str(prom)"
   ]
  },
  {
   "cell_type": "code",
   "execution_count": 15,
   "id": "8a4ed67d-c8b9-4a43-b2ad-6900dbfedb17",
   "metadata": {},
   "outputs": [],
   "source": [
    "estudiante = {'Eduarda': 3,\n",
    "              'Miguel': 6,\n",
    "              'Fernanda': 8,\n",
    "              'Karla': 0,\n",
    "              'David': 10}"
   ]
  },
  {
   "cell_type": "code",
   "execution_count": 17,
   "id": "e18c7cb1-9385-4cf2-b440-e3771dd7418a",
   "metadata": {},
   "outputs": [
    {
     "data": {
      "text/plain": [
       "6"
      ]
     },
     "execution_count": 17,
     "metadata": {},
     "output_type": "execute_result"
    }
   ],
   "source": [
    "estudiante['Miguel']\n"
   ]
  },
  {
   "cell_type": "code",
   "execution_count": 20,
   "id": "85e57368-71c9-4d89-a7d4-360055b308ba",
   "metadata": {},
   "outputs": [],
   "source": [
    "felipe = { 'nombre': 'Felipe Alessandro Barberis Barcia',\n",
    "          'edad': 25,\n",
    "          'carrera': 'Ciencia Politica',\n",
    "          'nacionalidad': 'ecuatoriano',\n",
    "          'hobbies': ['basket','futbol','volley','aprender idiomas','leer libros']\n",
    "         }"
   ]
  },
  {
   "cell_type": "code",
   "execution_count": 54,
   "id": "87aa0668-85ff-4371-8e3d-9c7b3e8bc285",
   "metadata": {},
   "outputs": [
    {
     "data": {
      "text/plain": [
       "{'nombre': 'Felipe Alessandro Barberis Barcia',\n",
       " 'edad': 25,\n",
       " 'carrera': 'Ciencia Politica',\n",
       " 'nacionalidad': 'ecuatoriano',\n",
       " 'hobbies': ['basket', 'futbol', 'volley', 'aprender idiomas', 'leer libros']}"
      ]
     },
     "execution_count": 54,
     "metadata": {},
     "output_type": "execute_result"
    }
   ],
   "source": [
    "felipe\n"
   ]
  },
  {
   "cell_type": "code",
   "execution_count": 55,
   "id": "9818277f-3b86-4ba5-bccc-3ba27d049bbe",
   "metadata": {},
   "outputs": [],
   "source": [
    "bolsaDeFutas = {'De arboles':['mangos','manazanas','limones','naranajas'],\n",
    "                'De vallas':['moras','fresas','arandanos','uvas'],\n",
    "                'De palmas':['piñas','cocos','bananas'],\n",
    "               }"
   ]
  },
  {
   "cell_type": "code",
   "execution_count": 58,
   "id": "432c6773-0c14-41ad-9cf5-586c4acb4e64",
   "metadata": {},
   "outputs": [],
   "source": [
    "cantidad = sum(map(len, bolsaDeFutas.values()))"
   ]
  },
  {
   "cell_type": "code",
   "execution_count": 59,
   "id": "ec59b8ee-6df3-4454-98ca-105a4f99e4f3",
   "metadata": {},
   "outputs": [
    {
     "name": "stdout",
     "output_type": "stream",
     "text": [
      "11\n"
     ]
    }
   ],
   "source": [
    "print(cantidad)"
   ]
  }
 ],
 "metadata": {
  "kernelspec": {
   "display_name": "Python 3 (ipykernel)",
   "language": "python",
   "name": "python3"
  },
  "language_info": {
   "codemirror_mode": {
    "name": "ipython",
    "version": 3
   },
   "file_extension": ".py",
   "mimetype": "text/x-python",
   "name": "python",
   "nbconvert_exporter": "python",
   "pygments_lexer": "ipython3",
   "version": "3.11.5"
  }
 },
 "nbformat": 4,
 "nbformat_minor": 5
}
